{
  "cells": [
    {
      "cell_type": "markdown",
      "metadata": {},
      "source": [
        "### Importing Libraries"
      ]
    },
    {
      "cell_type": "code",
      "execution_count": null,
      "metadata": {
        "id": "jzynQYpgbOwl"
      },
      "outputs": [],
      "source": [
        "import os\n",
        "import pandas as pd\n",
        "import numpy as np\n",
        "import matplotlib.pyplot as plt\n",
        "import shutil\n",
        "from __future__ import print_function, division\n",
        "import itertools\n",
        "import torch\n",
        "import torch.nn as nn\n",
        "import torch.optim as optim\n",
        "from torch.optim import lr_scheduler\n",
        "import numpy as np\n",
        "import torchvision\n",
        "from torchvision import datasets, models, transforms\n",
        "import matplotlib.pyplot as plt\n",
        "import time\n",
        "import copy\n",
        "from PIL import ImageFile,Image\n",
        "import  glob\n",
        "ImageFile.LOAD_TRUNCATED_IMAGES = True\n",
        "plt.ion()"
      ]
    },
    {
      "cell_type": "markdown",
      "metadata": {
        "id": "68PfJeQRi7ne"
      },
      "source": [
        "### Getting the Data ready for training"
      ]
    },
    {
      "cell_type": "markdown",
      "metadata": {},
      "source": [
        "##### Downloading Data"
      ]
    },
    {
      "cell_type": "code",
      "execution_count": null,
      "metadata": {
        "colab": {
          "base_uri": "https://localhost:8080/",
          "height": 272
        },
        "id": "Tnt0G2_5b_xx",
        "outputId": "6f9fbb66-24da-44c6-8b09-40a48f505427"
      },
      "outputs": [
        {
          "name": "stdout",
          "output_type": "stream",
          "text": [
            "Downloading http://www.cs.toronto.edu/~kriz/cifar-10-python.tar.gz\n",
            "Done.\n",
            "Extracting files...\n",
            "Done.\n",
            "Preparing train set...\n",
            "Done.\n",
            "Preparing test set...\n",
            "Done.\n",
            "Writing train text file...\n",
            "Done.\n",
            "Writing test text file...\n",
            "Done.\n",
            "Converting train data to png images...\n",
            "Converting test data to png images...\n",
            "Done.\n"
          ]
        }
      ],
      "source": [
        "from __future__ import print_function\n",
        "import cifar_utils as ut\n",
        "\n",
        "if __name__ == \"__main__\":\n",
        "    trn, tst= ut.loadData('http://www.cs.toronto.edu/~kriz/cifar-10-python.tar.gz')\n",
        "    print ('Writing train text file...')\n",
        "    ut.saveTxt(r'./Train_cntk_text.txt', trn)\n",
        "    print ('Done.')\n",
        "    print ('Writing test text file...')\n",
        "    ut.saveTxt(r'./Test_cntk_text.txt', tst)\n",
        "    print ('Done.')\n",
        "\n",
        "    print ('Converting train data to png images...')\n",
        "    ut.saveTrainImages(r'./Train_cntk_text.txt', 'train')\n",
        "    # print ('Done.')\n",
        "    print ('Converting test data to png images...')\n",
        "    ut.saveTestImages(r'./Test_cntk_text.txt', 'test')\n",
        "    print ('Done.')"
      ]
    },
    {
      "cell_type": "code",
      "execution_count": null,
      "metadata": {
        "colab": {
          "base_uri": "https://localhost:8080/",
          "height": 51
        },
        "id": "wMleST_mcEqo",
        "outputId": "ad1bb30f-3cc2-4402-c9f0-bd9cb544a5ef"
      },
      "outputs": [
        {
          "name": "stdout",
          "output_type": "stream",
          "text": [
            "No of train Images: 50000\n",
            "No of test Images: 10000\n"
          ]
        }
      ],
      "source": [
        "files = ['train', 'test']\n",
        "\n",
        "for f in files:\n",
        "  list = os.listdir(os.path.join(os.getcwd(), f))\n",
        "  number_files = len(list)\n",
        "  print(\"No of {} Images: {}\".format(f, number_files))\n"
      ]
    },
    {
      "cell_type": "markdown",
      "metadata": {
        "id": "fCom86O6jBuh"
      },
      "source": [
        "##### Preprocessing"
      ]
    },
    {
      "cell_type": "code",
      "execution_count": null,
      "metadata": {
        "id": "jLfklbOWcJ77"
      },
      "outputs": [],
      "source": [
        "# Retrieve class names\n",
        "def unpickle(file):\n",
        "    import pickle\n",
        "    with open(file, 'rb') as fo:\n",
        "        dict = pickle.load(fo, encoding='bytes')\n",
        "    return dict\n",
        "\n",
        "d = unpickle(os.getcwd() + '/cifar-10-batches-py/batches.meta')\n",
        "class_names = d[b'label_names']\n",
        "class_names = [byte.decode('utf8') for byte in class_names]"
      ]
    },
    {
      "cell_type": "code",
      "execution_count": null,
      "metadata": {
        "colab": {
          "base_uri": "https://localhost:8080/",
          "height": 51
        },
        "id": "9WZtTrDzcMoO",
        "outputId": "e4e40d61-7f2c-4ec7-af25-f87bb948561f"
      },
      "outputs": [
        {
          "name": "stdout",
          "output_type": "stream",
          "text": [
            "No of classes: 10\n",
            "['airplane', 'automobile', 'bird', 'cat', 'deer', 'dog', 'frog', 'horse', 'ship', 'truck']\n"
          ]
        }
      ],
      "source": [
        "# View Classes\n",
        "print('No of classes: {}'.format(len(class_names)))\n",
        "print(class_names)"
      ]
    },
    {
      "cell_type": "code",
      "execution_count": null,
      "metadata": {
        "id": "oTJTetF5cOW1"
      },
      "outputs": [],
      "source": [
        "# Make class directoires in train and test directories\n",
        "files = ['train', 'test']\n",
        "for f in files:\n",
        "  for i in range(len(class_names)):\n",
        "      path = os.path.join(os.getcwd(), f , class_names[i])\n",
        "      \n",
        "      if not os.path.exists(path):\n",
        "          os.makedirs(path)"
      ]
    },
    {
      "cell_type": "code",
      "execution_count": null,
      "metadata": {
        "id": "VZ3OMMYGgjPT"
      },
      "outputs": [],
      "source": [
        "# Read-in mapping text file (maps images to classes)\n",
        "train_map = pd.read_csv('train_map.txt', sep='\\t', header=None)\n",
        "test_map  = pd.read_csv('test_map.txt', sep='\\t',header=None)"
      ]
    },
    {
      "cell_type": "code",
      "execution_count": null,
      "metadata": {
        "colab": {
          "base_uri": "https://localhost:8080/",
          "height": 204
        },
        "id": "rwkaRG0dgmGR",
        "outputId": "8fbfd626-2827-4203-9b72-8d9d8e37c4cd"
      },
      "outputs": [
        {
          "data": {
            "text/html": [
              "<div>\n",
              "<style scoped>\n",
              "    .dataframe tbody tr th:only-of-type {\n",
              "        vertical-align: middle;\n",
              "    }\n",
              "\n",
              "    .dataframe tbody tr th {\n",
              "        vertical-align: top;\n",
              "    }\n",
              "\n",
              "    .dataframe thead th {\n",
              "        text-align: right;\n",
              "    }\n",
              "</style>\n",
              "<table border=\"1\" class=\"dataframe\">\n",
              "  <thead>\n",
              "    <tr style=\"text-align: right;\">\n",
              "      <th></th>\n",
              "      <th>0</th>\n",
              "      <th>1</th>\n",
              "    </tr>\n",
              "  </thead>\n",
              "  <tbody>\n",
              "    <tr>\n",
              "      <th>0</th>\n",
              "      <td>/content/train/00000.png</td>\n",
              "      <td>6</td>\n",
              "    </tr>\n",
              "    <tr>\n",
              "      <th>1</th>\n",
              "      <td>/content/train/00001.png</td>\n",
              "      <td>9</td>\n",
              "    </tr>\n",
              "    <tr>\n",
              "      <th>2</th>\n",
              "      <td>/content/train/00002.png</td>\n",
              "      <td>9</td>\n",
              "    </tr>\n",
              "    <tr>\n",
              "      <th>3</th>\n",
              "      <td>/content/train/00003.png</td>\n",
              "      <td>4</td>\n",
              "    </tr>\n",
              "    <tr>\n",
              "      <th>4</th>\n",
              "      <td>/content/train/00004.png</td>\n",
              "      <td>1</td>\n",
              "    </tr>\n",
              "  </tbody>\n",
              "</table>\n",
              "</div>"
            ],
            "text/plain": [
              "                          0  1\n",
              "0  /content/train/00000.png  6\n",
              "1  /content/train/00001.png  9\n",
              "2  /content/train/00002.png  9\n",
              "3  /content/train/00003.png  4\n",
              "4  /content/train/00004.png  1"
            ]
          },
          "execution_count": 13,
          "metadata": {
            "tags": []
          },
          "output_type": "execute_result"
        }
      ],
      "source": [
        "# Insepecting Files\n",
        "train_map.head()"
      ]
    },
    {
      "cell_type": "code",
      "execution_count": null,
      "metadata": {
        "id": "fup_gXmvcORH"
      },
      "outputs": [],
      "source": [
        "# Move files to respective classes in train and test directories\n",
        "files = ['train', 'test']\n",
        "mapping_files = [train_map, test_map]\n",
        "\n",
        "for i in range(len(files)):\n",
        "  for j in range(len(mapping_files[i])):\n",
        "      src = mapping_files[i].iloc[j,0]\n",
        "      dst = os.path.join(os.getcwd(),files[i], class_names[mapping_files[i].iloc[j][1]])\n",
        "      \n",
        "      if os.path.exists(src):\n",
        "          shutil.move(src, dst)"
      ]
    },
    {
      "cell_type": "code",
      "execution_count": null,
      "metadata": {
        "colab": {
          "base_uri": "https://localhost:8080/",
          "height": 425
        },
        "id": "DXbpUw5NcW04",
        "outputId": "245f654b-b789-444d-a7d9-f890d217e439"
      },
      "outputs": [
        {
          "name": "stdout",
          "output_type": "stream",
          "text": [
            "Images in train set airplane class are 5000\n",
            "Images in train set automobile class are 5000\n",
            "Images in train set bird class are 5000\n",
            "Images in train set cat class are 5000\n",
            "Images in train set deer class are 5000\n",
            "Images in train set dog class are 5000\n",
            "Images in train set frog class are 5000\n",
            "Images in train set horse class are 5000\n",
            "Images in train set ship class are 5000\n",
            "Images in train set truck class are 5000\n",
            "\n",
            "\n",
            "Images in test set airplane class are 1000\n",
            "Images in test set automobile class are 1000\n",
            "Images in test set bird class are 1000\n",
            "Images in test set cat class are 1000\n",
            "Images in test set deer class are 1000\n",
            "Images in test set dog class are 1000\n",
            "Images in test set frog class are 1000\n",
            "Images in test set horse class are 1000\n",
            "Images in test set ship class are 1000\n",
            "Images in test set truck class are 1000\n",
            "\n",
            "\n"
          ]
        }
      ],
      "source": [
        "# Class data overview\n",
        "files = ['train', 'test']\n",
        "for f in files:\n",
        "  for i in range(len(class_names)):\n",
        "    list = os.listdir(os.path.join(os.getcwd(),f,class_names[i])) # dir is your directory path\n",
        "    number_files = len(list)\n",
        "    print('Images in {} set {} class are {}'.format(f, class_names[i], number_files))\n",
        "  print('\\n')"
      ]
    },
    {
      "cell_type": "code",
      "execution_count": null,
      "metadata": {
        "id": "W5mMD4bJcZfq"
      },
      "outputs": [],
      "source": [
        "# Create Directory\n",
        "path = os.path.join(os.getcwd()+'/arranged_data_final')\n",
        "    \n",
        "if not os.path.exists(path):\n",
        "    os.makedirs(path)\n",
        "\n",
        "# Move organized train and test files to a separate folder\n",
        "files = ['train', 'test']\n",
        "for f in files:\n",
        "  src = os.path.join(os.getcwd(),f)\n",
        "  dst = os.path.join(os.getcwd(),'arranged_data_final')\n",
        "      \n",
        "  if os.path.exists(src):\n",
        "    shutil.move(src, dst)"
      ]
    },
    {
      "cell_type": "code",
      "execution_count": null,
      "metadata": {
        "id": "TGBB7qmEijdj"
      },
      "outputs": [],
      "source": [
        "# Data Processing and Augmentation\n",
        "data_transforms = {\n",
        "    'train': transforms.Compose([\n",
        "        transforms.Resize((64, 64)),\n",
        "        transforms.RandomHorizontalFlip(),\n",
        "        transforms.ToTensor(),\n",
        "        transforms.Normalize([0.485, 0.456, 0.406], [0.229, 0.224, 0.225])\n",
        "    ]),\n",
        "    'test': transforms.Compose([\n",
        "        transforms.Resize((64, 64)),\n",
        "        transforms.ToTensor(),\n",
        "        transforms.Normalize([0.485, 0.456, 0.406], [0.229, 0.224, 0.225])\n",
        "    ]),\n",
        "}"
      ]
    },
    {
      "cell_type": "markdown",
      "metadata": {
        "id": "ju1ayLELjdHo"
      },
      "source": [
        "## Training"
      ]
    },
    {
      "cell_type": "markdown",
      "metadata": {
        "id": "l_8HPUdtjlVW"
      },
      "source": [
        "##### Loading in Dataset"
      ]
    },
    {
      "cell_type": "code",
      "execution_count": null,
      "metadata": {
        "id": "Pxijx-HVimCd"
      },
      "outputs": [],
      "source": [
        "# Load in Dataset\n",
        "data_dir = os.getcwd() + '/arranged_data_final'\n",
        "image_datasets = {x: datasets.ImageFolder(os.path.join(data_dir, x),\n",
        "                                          data_transforms[x]) for x in ['train', 'test']}"
      ]
    },
    {
      "cell_type": "code",
      "execution_count": null,
      "metadata": {
        "id": "2FKV8OKmioNX"
      },
      "outputs": [],
      "source": [
        "# Create dataloaders\n",
        "dataloaders = {x: torch.utils.data.DataLoader(image_datasets[x], batch_size=150,\n",
        "                                             shuffle=True, num_workers=16)\n",
        "              for x in ['train', 'test']}"
      ]
    },
    {
      "cell_type": "code",
      "execution_count": null,
      "metadata": {
        "colab": {
          "base_uri": "https://localhost:8080/",
          "height": 34
        },
        "id": "hEjR2qQD7bHG",
        "outputId": "7f4f4bcc-c285-427f-b67e-87cb4f195b4f"
      },
      "outputs": [
        {
          "name": "stdout",
          "output_type": "stream",
          "text": [
            "10\n"
          ]
        }
      ],
      "source": [
        "dataset_sizes = {x: len(image_datasets[x]) for x in ['train', 'test']}\n",
        "class_names = image_datasets['train'].classes\n",
        "print(len(class_names))"
      ]
    },
    {
      "cell_type": "code",
      "execution_count": null,
      "metadata": {
        "id": "WGkICzlA7pos"
      },
      "outputs": [],
      "source": [
        "with open('labels.txt', 'w') as filehandle:\n",
        "    for listitem in class_names:\n",
        "        filehandle.write('%s\\n' % listitem)"
      ]
    },
    {
      "cell_type": "markdown",
      "metadata": {
        "id": "psHJjHsAjo0X"
      },
      "source": [
        "##### Loading Pretrained Model"
      ]
    },
    {
      "cell_type": "code",
      "execution_count": null,
      "metadata": {
        "colab": {
          "base_uri": "https://localhost:8080/",
          "height": 83,
          "referenced_widgets": [
            "4168bf2a85d44e9b99a7075d963ee88f",
            "7204b20a9e5744e78c2323b806d43c5a",
            "72f1da0e05044df39851252978f79708",
            "63622a808ce0482c9a2d6c018fb51199",
            "18f9e3902226413695ff3a11f132ff04",
            "62347956c57748e490e48aaf7d062217",
            "a1ba4997b3c6455783be8e5cefce7e12",
            "b427da024a274589a597c85d31c51712"
          ]
        },
        "id": "MFH6cXyniqkR",
        "outputId": "019f7d93-fc4e-46e6-d7ae-c23927af9106"
      },
      "outputs": [
        {
          "name": "stderr",
          "output_type": "stream",
          "text": [
            "Downloading: \"https://download.pytorch.org/models/resnet50-19c8e357.pth\" to /root/.cache/torch/hub/checkpoints/resnet50-19c8e357.pth\n"
          ]
        },
        {
          "data": {
            "application/vnd.jupyter.widget-view+json": {
              "model_id": "4168bf2a85d44e9b99a7075d963ee88f",
              "version_major": 2,
              "version_minor": 0
            },
            "text/plain": [
              "HBox(children=(FloatProgress(value=0.0, max=102502400.0), HTML(value='')))"
            ]
          },
          "metadata": {
            "tags": []
          },
          "output_type": "display_data"
        },
        {
          "name": "stdout",
          "output_type": "stream",
          "text": [
            "\n"
          ]
        }
      ],
      "source": [
        "# Create Model\n",
        "model_ft = models.resnet50(pretrained=True)\n",
        "num_ftrs = model_ft.fc.in_features\n",
        "model_ft.fc = nn.Linear(num_ftrs, len(class_names))\n",
        "\n",
        "device = torch.device(\"cuda:0\" if torch.cuda.is_available() else \"cpu\")\n",
        "model_ft = model_ft.to(device)"
      ]
    },
    {
      "cell_type": "markdown",
      "metadata": {
        "id": "91XOJ5gYjuv8"
      },
      "source": [
        "##### Setting Optimizer and Loss Function"
      ]
    },
    {
      "cell_type": "code",
      "execution_count": null,
      "metadata": {
        "id": "y8R-YJSSivwr"
      },
      "outputs": [],
      "source": [
        "# model parameters\n",
        "criterion = nn.CrossEntropyLoss()\n",
        "\n",
        "# Observe that all parameters are being optimized\n",
        "optimizer_ft = optim.SGD(model_ft.parameters(), lr=0.003,momentum=0.9)\n",
        "\n",
        "# Decay LR by a factor of 0.1 every 7 epochs\n",
        "exp_lr_scheduler = lr_scheduler.StepLR(optimizer_ft, step_size=7, gamma=0.1)"
      ]
    },
    {
      "cell_type": "markdown",
      "metadata": {
        "id": "1xLjNBs_j1TR"
      },
      "source": [
        "##### Training (Sit back it will take some time)"
      ]
    },
    {
      "cell_type": "code",
      "execution_count": null,
      "metadata": {
        "colab": {
          "base_uri": "https://localhost:8080/",
          "height": 445
        },
        "id": "nK6fwBfQi0qp",
        "outputId": "e5527d6f-6ca2-4b18-ddd5-08a0525ea548"
      },
      "outputs": [
        {
          "name": "stdout",
          "output_type": "stream",
          "text": [
            "Epoch 0/49\n",
            "----------\n"
          ]
        },
        {
          "name": "stderr",
          "output_type": "stream",
          "text": [
            "/usr/local/lib/python3.6/dist-packages/torch/optim/lr_scheduler.py:123: UserWarning: Detected call of `lr_scheduler.step()` before `optimizer.step()`. In PyTorch 1.1.0 and later, you should call them in the opposite order: `optimizer.step()` before `lr_scheduler.step()`.  Failure to do this will result in PyTorch skipping the first value of the learning rate schedule. See more details at https://pytorch.org/docs/stable/optim.html#how-to-adjust-learning-rate\n",
            "  \"https://pytorch.org/docs/stable/optim.html#how-to-adjust-learning-rate\", UserWarning)\n"
          ]
        },
        {
          "name": "stdout",
          "output_type": "stream",
          "text": [
            "train Loss: 0.6161 Acc: 0.7898\n",
            "test Loss: 0.4928 Acc: 0.8254\n",
            "Epoch 1/49\n",
            "----------\n",
            "train Loss: 0.2573 Acc: 0.9114\n",
            "test Loss: 0.4660 Acc: 0.8391\n",
            "Epoch 2/49\n",
            "----------\n",
            "train Loss: 0.1686 Acc: 0.9433\n",
            "test Loss: 0.4281 Acc: 0.8588\n",
            "Epoch 3/49\n",
            "----------\n",
            "train Loss: 0.1075 Acc: 0.9646\n",
            "test Loss: 0.4446 Acc: 0.8619\n",
            "Epoch 4/49\n",
            "----------\n",
            "train Loss: 0.0776 Acc: 0.9744\n",
            "test Loss: 0.4688 Acc: 0.8590\n",
            "Epoch 5/49\n",
            "----------\n"
          ]
        }
      ],
      "source": [
        "# Training\n",
        "def train_model(model, criterion, optimizer, scheduler, num_epochs=25):\n",
        "    since = time.time()\n",
        "\n",
        "    best_model_wts = copy.deepcopy(model.state_dict())\n",
        "    best_acc = 0.0\n",
        "    train_loss, val_loss, train_acc, val_acc = [], [], [], []\n",
        "\n",
        "    for epoch in range(num_epochs):\n",
        "        print('Epoch {}/{}'.format(epoch, num_epochs - 1))\n",
        "        print('-' * 10)\n",
        "\n",
        "        # Each epoch has a training and validation phase\n",
        "        for phase in ['train', 'test']:\n",
        "            if phase == 'train':\n",
        "                scheduler.step()\n",
        "                model.train()  # Set model to training mode\n",
        "            else:\n",
        "                model.eval()  # Set model to evaluate mode\n",
        "\n",
        "            running_loss = 0.0\n",
        "            running_corrects = 0\n",
        "\n",
        "            # Iterate over data.\n",
        "            for inputs, labels in dataloaders[phase]:\n",
        "                inputs = inputs.to(device)\n",
        "                labels = labels.to(device)\n",
        "\n",
        "                # zero the parameter gradients\n",
        "                optimizer.zero_grad()\n",
        "\n",
        "                # forward propagation.\n",
        "                # track history if only in train\n",
        "                with torch.set_grad_enabled(phase == 'train'):\n",
        "                    outputs = model(inputs)\n",
        "                    _, preds = torch.max(outputs, 1)\n",
        "                    loss = criterion(outputs, labels)\n",
        "\n",
        "                    # backward + optimize only if in training phase\n",
        "                    if phase == 'train':\n",
        "                        loss.backward()\n",
        "                        optimizer.step()\n",
        "\n",
        "                # statistics\n",
        "                running_loss += loss.item() * inputs.size(0)\n",
        "                running_corrects += torch.sum(preds == labels.data)\n",
        "\n",
        "            epoch_loss = running_loss / dataset_sizes[phase]\n",
        "            epoch_acc = running_corrects.double() / dataset_sizes[phase]\n",
        "\n",
        "            if phase == 'train':\n",
        "                train_loss.append(epoch_loss)\n",
        "                train_acc.append(epoch_acc)\n",
        "            else:\n",
        "                val_loss.append(epoch_loss)\n",
        "                val_acc.append(epoch_acc)\n",
        "\n",
        "            print('{} Loss: {:.4f} Acc: {:.4f}'.format(phase, epoch_loss, epoch_acc))\n",
        "\n",
        "            # deep copy the model\n",
        "            if phase == 'test' and epoch_acc > best_acc:\n",
        "                best_acc = epoch_acc\n",
        "                best_model_wts = copy.deepcopy(model.state_dict())\n",
        "\n",
        "        # print()\n",
        "\n",
        "    time_elapsed = time.time() - since\n",
        "    print('Training complete in {:.0f}m {:.0f}s'.format(\n",
        "        time_elapsed // 60, time_elapsed % 60))\n",
        "    print('Best val Acc: {:4f}'.format(best_acc))\n",
        "\n",
        "    # load best model weights\n",
        "    model.load_state_dict(best_model_wts)\n",
        "    return model, [train_loss, train_acc, val_loss, val_acc]\n",
        "\n",
        "\n",
        "model_ft, info = train_model(model_ft, criterion, optimizer_ft, exp_lr_scheduler, num_epochs=50)"
      ]
    },
    {
      "cell_type": "markdown",
      "metadata": {},
      "source": [
        "##### Saving Model"
      ]
    },
    {
      "cell_type": "code",
      "execution_count": null,
      "metadata": {
        "id": "zrE8XIYOZe1D"
      },
      "outputs": [],
      "source": [
        "torch.save(model_ft.state_dict(), ('resnet50_f.pth'))"
      ]
    },
    {
      "cell_type": "markdown",
      "metadata": {
        "id": "is6H0X8mn1Da"
      },
      "source": [
        "## Testing"
      ]
    },
    {
      "cell_type": "code",
      "execution_count": null,
      "metadata": {
        "id": "ALLs44stn3uV"
      },
      "outputs": [],
      "source": [
        "def predictions(model, image):\n",
        "    model.eval()\n",
        "    img = image.to(device)\n",
        "\n",
        "    with torch.no_grad():\n",
        "        outputs = model(img)\n",
        "        outputs=torch.softmax(outputs, dim=1, dtype=float)\n",
        "        _, preds = torch.max(outputs, 1)\n",
        "    return class_names[preds]\n",
        "\n",
        "\n",
        "def image_loader(loader, image):\n",
        "    image = loader(image).float()\n",
        "    image = torch.tensor(image, requires_grad=True)\n",
        "    image = image.unsqueeze(0)\n",
        "    return image"
      ]
    },
    {
      "cell_type": "code",
      "execution_count": null,
      "metadata": {
        "id": "lSWDqBMa4YYc"
      },
      "outputs": [],
      "source": [
        "classes=glob.glob(os.getcwd()+ '/arranged_data_final/test/*')\n",
        "all_images=[glob.glob(classes[i]+'/*') for i in range(len(classes)) ]\n",
        "merged_images=np.reshape(all_images,-1)\n",
        "# true_labels_array=[]\n",
        "# classified_labels_array=[]\n",
        "import time\n",
        "start_time=time.time()\n",
        "count=0\n",
        "total_correct=0\n",
        "for j in merged_images:\n",
        "    image=Image.open(j)\n",
        "    image=image_loader(data_transforms['test'], image)\n",
        "    pred_name=predictions(model_ft, image)\n",
        "    if \"_\".join(pred_name.split()) in j.split('/'):\n",
        "        total_correct+=1\n",
        "    count=count+1\n",
        "\n",
        "\n",
        "end_time=time.time()\n",
        "\n",
        "print('Total time=', end_time-start_time, \" seconds\")\n",
        "print('Total images processed=', count)\n",
        "print('Frames Per Seconds with Pytorch Model =', count/(end_time-start_time))\n",
        "print('Test Data accuracy with Pytorch Model =', (total_correct/count)*100)"
      ]
    }
  ],
  "metadata": {
    "accelerator": "GPU",
    "colab": {
      "collapsed_sections": [
        "68PfJeQRi7ne"
      ],
      "name": "TensorRT.ipynb",
      "provenance": [],
      "toc_visible": true
    },
    "kernelspec": {
      "display_name": "Python 3.6.9 64-bit",
      "language": "python",
      "name": "python3"
    },
    "language_info": {
      "name": "python",
      "version": "3.6.9"
    },
    "vscode": {
      "interpreter": {
        "hash": "31f2aee4e71d21fbe5cf8b01ff0e069b9275f58929596ceb00d14d90e3e16cd6"
      }
    },
    "widgets": {
      "application/vnd.jupyter.widget-state+json": {
        "18f9e3902226413695ff3a11f132ff04": {
          "model_module": "@jupyter-widgets/controls",
          "model_name": "ProgressStyleModel",
          "state": {
            "_model_module": "@jupyter-widgets/controls",
            "_model_module_version": "1.5.0",
            "_model_name": "ProgressStyleModel",
            "_view_count": null,
            "_view_module": "@jupyter-widgets/base",
            "_view_module_version": "1.2.0",
            "_view_name": "StyleView",
            "bar_color": null,
            "description_width": "initial"
          }
        },
        "4168bf2a85d44e9b99a7075d963ee88f": {
          "model_module": "@jupyter-widgets/controls",
          "model_name": "HBoxModel",
          "state": {
            "_dom_classes": [],
            "_model_module": "@jupyter-widgets/controls",
            "_model_module_version": "1.5.0",
            "_model_name": "HBoxModel",
            "_view_count": null,
            "_view_module": "@jupyter-widgets/controls",
            "_view_module_version": "1.5.0",
            "_view_name": "HBoxView",
            "box_style": "",
            "children": [
              "IPY_MODEL_72f1da0e05044df39851252978f79708",
              "IPY_MODEL_63622a808ce0482c9a2d6c018fb51199"
            ],
            "layout": "IPY_MODEL_7204b20a9e5744e78c2323b806d43c5a"
          }
        },
        "62347956c57748e490e48aaf7d062217": {
          "model_module": "@jupyter-widgets/base",
          "model_name": "LayoutModel",
          "state": {
            "_model_module": "@jupyter-widgets/base",
            "_model_module_version": "1.2.0",
            "_model_name": "LayoutModel",
            "_view_count": null,
            "_view_module": "@jupyter-widgets/base",
            "_view_module_version": "1.2.0",
            "_view_name": "LayoutView",
            "align_content": null,
            "align_items": null,
            "align_self": null,
            "border": null,
            "bottom": null,
            "display": null,
            "flex": null,
            "flex_flow": null,
            "grid_area": null,
            "grid_auto_columns": null,
            "grid_auto_flow": null,
            "grid_auto_rows": null,
            "grid_column": null,
            "grid_gap": null,
            "grid_row": null,
            "grid_template_areas": null,
            "grid_template_columns": null,
            "grid_template_rows": null,
            "height": null,
            "justify_content": null,
            "justify_items": null,
            "left": null,
            "margin": null,
            "max_height": null,
            "max_width": null,
            "min_height": null,
            "min_width": null,
            "object_fit": null,
            "object_position": null,
            "order": null,
            "overflow": null,
            "overflow_x": null,
            "overflow_y": null,
            "padding": null,
            "right": null,
            "top": null,
            "visibility": null,
            "width": null
          }
        },
        "63622a808ce0482c9a2d6c018fb51199": {
          "model_module": "@jupyter-widgets/controls",
          "model_name": "HTMLModel",
          "state": {
            "_dom_classes": [],
            "_model_module": "@jupyter-widgets/controls",
            "_model_module_version": "1.5.0",
            "_model_name": "HTMLModel",
            "_view_count": null,
            "_view_module": "@jupyter-widgets/controls",
            "_view_module_version": "1.5.0",
            "_view_name": "HTMLView",
            "description": "",
            "description_tooltip": null,
            "layout": "IPY_MODEL_b427da024a274589a597c85d31c51712",
            "placeholder": "​",
            "style": "IPY_MODEL_a1ba4997b3c6455783be8e5cefce7e12",
            "value": " 97.8M/97.8M [00:10&lt;00:00, 9.60MB/s]"
          }
        },
        "7204b20a9e5744e78c2323b806d43c5a": {
          "model_module": "@jupyter-widgets/base",
          "model_name": "LayoutModel",
          "state": {
            "_model_module": "@jupyter-widgets/base",
            "_model_module_version": "1.2.0",
            "_model_name": "LayoutModel",
            "_view_count": null,
            "_view_module": "@jupyter-widgets/base",
            "_view_module_version": "1.2.0",
            "_view_name": "LayoutView",
            "align_content": null,
            "align_items": null,
            "align_self": null,
            "border": null,
            "bottom": null,
            "display": null,
            "flex": null,
            "flex_flow": null,
            "grid_area": null,
            "grid_auto_columns": null,
            "grid_auto_flow": null,
            "grid_auto_rows": null,
            "grid_column": null,
            "grid_gap": null,
            "grid_row": null,
            "grid_template_areas": null,
            "grid_template_columns": null,
            "grid_template_rows": null,
            "height": null,
            "justify_content": null,
            "justify_items": null,
            "left": null,
            "margin": null,
            "max_height": null,
            "max_width": null,
            "min_height": null,
            "min_width": null,
            "object_fit": null,
            "object_position": null,
            "order": null,
            "overflow": null,
            "overflow_x": null,
            "overflow_y": null,
            "padding": null,
            "right": null,
            "top": null,
            "visibility": null,
            "width": null
          }
        },
        "72f1da0e05044df39851252978f79708": {
          "model_module": "@jupyter-widgets/controls",
          "model_name": "FloatProgressModel",
          "state": {
            "_dom_classes": [],
            "_model_module": "@jupyter-widgets/controls",
            "_model_module_version": "1.5.0",
            "_model_name": "FloatProgressModel",
            "_view_count": null,
            "_view_module": "@jupyter-widgets/controls",
            "_view_module_version": "1.5.0",
            "_view_name": "ProgressView",
            "bar_style": "success",
            "description": "100%",
            "description_tooltip": null,
            "layout": "IPY_MODEL_62347956c57748e490e48aaf7d062217",
            "max": 102502400,
            "min": 0,
            "orientation": "horizontal",
            "style": "IPY_MODEL_18f9e3902226413695ff3a11f132ff04",
            "value": 102502400
          }
        },
        "a1ba4997b3c6455783be8e5cefce7e12": {
          "model_module": "@jupyter-widgets/controls",
          "model_name": "DescriptionStyleModel",
          "state": {
            "_model_module": "@jupyter-widgets/controls",
            "_model_module_version": "1.5.0",
            "_model_name": "DescriptionStyleModel",
            "_view_count": null,
            "_view_module": "@jupyter-widgets/base",
            "_view_module_version": "1.2.0",
            "_view_name": "StyleView",
            "description_width": ""
          }
        },
        "b427da024a274589a597c85d31c51712": {
          "model_module": "@jupyter-widgets/base",
          "model_name": "LayoutModel",
          "state": {
            "_model_module": "@jupyter-widgets/base",
            "_model_module_version": "1.2.0",
            "_model_name": "LayoutModel",
            "_view_count": null,
            "_view_module": "@jupyter-widgets/base",
            "_view_module_version": "1.2.0",
            "_view_name": "LayoutView",
            "align_content": null,
            "align_items": null,
            "align_self": null,
            "border": null,
            "bottom": null,
            "display": null,
            "flex": null,
            "flex_flow": null,
            "grid_area": null,
            "grid_auto_columns": null,
            "grid_auto_flow": null,
            "grid_auto_rows": null,
            "grid_column": null,
            "grid_gap": null,
            "grid_row": null,
            "grid_template_areas": null,
            "grid_template_columns": null,
            "grid_template_rows": null,
            "height": null,
            "justify_content": null,
            "justify_items": null,
            "left": null,
            "margin": null,
            "max_height": null,
            "max_width": null,
            "min_height": null,
            "min_width": null,
            "object_fit": null,
            "object_position": null,
            "order": null,
            "overflow": null,
            "overflow_x": null,
            "overflow_y": null,
            "padding": null,
            "right": null,
            "top": null,
            "visibility": null,
            "width": null
          }
        }
      }
    }
  },
  "nbformat": 4,
  "nbformat_minor": 0
}
